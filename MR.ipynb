{
  "cells": [
    {
      "cell_type": "markdown",
      "metadata": {
        "id": "view-in-github",
        "colab_type": "text"
      },
      "source": [
        "<a href=\"https://colab.research.google.com/github/Cansu-byte/PythonProject/blob/main/MR.ipynb\" target=\"_parent\"><img src=\"https://colab.research.google.com/assets/colab-badge.svg\" alt=\"Open In Colab\"/></a>"
      ]
    },
    {
      "cell_type": "code",
      "source": [
        "import cv2\n",
        "import tensorflow as tf\n",
        "from tensorflow.keras.preprocessing.image import ImageDataGenerator\n",
        "from tensorflow.keras.applications import ResNet50\n",
        "from tensorflow.keras.models import Model\n",
        "from tensorflow.keras.layers import Dense, Dropout, GlobalAveragePooling2D\n",
        "from tensorflow.keras.optimizers import Adam\n",
        "from tensorflow.keras.callbacks import ReduceLROnPlateau, EarlyStopping\n",
        "from albumentations import (Compose, HorizontalFlip, Rotate, ShiftScaleRotate, RandomBrightnessContrast, HueSaturationValue)\n",
        "from albumentations.core.composition import OneOf\n",
        "import os\n",
        "import numpy as np\n",
        "import pandas as pd\n",
        "\n",
        "\n"
      ],
      "metadata": {
        "id": "mKcKbWEW9ef7"
      },
      "execution_count": 5,
      "outputs": []
    },
    {
      "cell_type": "code",
      "source": [
        "\n",
        "\n",
        "def load_data_with_augmentation(data_dir, augment=False):\n",
        "    images = []\n",
        "    labels = []\n",
        "    classes = ['Glioma', 'Meningioma', 'No Tumor', 'Pituitary']\n",
        "    for  class_id, class_name in enumerate(classes):\n",
        "        img_dir = os.path.join(data_dir, class_name, 'images')#görüntü yollari belirtilir.\n",
        "        label_dir = os.path.join(data_dir, class_name, 'labels')\n",
        "\n",
        "      # Check if the directories exist\n",
        "        if not os.path.exists(img_dir):\n",
        "            print(f\"Warning: Directory not found: {img_dir}\")\n",
        "            continue\n",
        "        if not os.path.exists(label_dir):\n",
        "            print(f\"Warning: Directory not found: {label_dir}\")\n",
        "            continue\n",
        "\n",
        "        for img_name in os.listdir(img_dir):                  #os.listdir(img_dir) kullanarak img_dir içindeki tüm dosyaların isimlerini alırız.\n",
        "            img_path = os.path.join(img_dir, img_name)        #Dosya yollari olusturulur.\n",
        "            label_path = os.path.join(label_dir, img_name.replace('.jpg', '.txt'))\n",
        "\n",
        "\n",
        "            img = cv2.imread(img_path)                       #Görüntüyü okuma, boyutlandirma, geçersizleri atlama\n",
        "            if img is None:\n",
        "                continue\n",
        "            img = cv2.resize(img, (224, 224))\n",
        "            img = cv2.cvtColor(img, cv2.COLOR_BGR2RGB)\n",
        "\n",
        "            if augment:                                       # Veri artirma islemi ile modelin veri varyasyonlarina( yatay çevirme, döndürme, kaydırma, ölçekleme vb.) karsi dayanilikligi arttirir.\n",
        "                aug = Compose([\n",
        "                    HorizontalFlip(),\n",
        "                    OneOf([\n",
        "                        Rotate(limit=30),\n",
        "                        ShiftScaleRotate(shift_limit=0.1, scale_limit=0.1, rotate_limit=30)\n",
        "                    ], p=0.5),\n",
        "                    OneOf([\n",
        "                        RandomBrightnessContrast(),\n",
        "                        HueSaturationValue()\n",
        "                    ], p=0.5)\n",
        "                ])\n",
        "                img = aug(image=img)['image']\n",
        "\n",
        "\n",
        "            if os.path.exists(label_path):                    #Her bir görüntü dosyası için ilgili etiket dosyasını kontrol eder ve etiketi okur. Etiketler geçerli ve okunabilir olduğunda, görüntüyü ve etiketleri listelere ekler.\n",
        "                with open(label_path, 'r') as f:\n",
        "                    label = f.readline().strip().split()\n",
        "                    if len(label) > 0:\n",
        "                        class_id = int(label[0])\n",
        "                    else:\n",
        "                        continue\n",
        "            else:\n",
        "                 continue\n",
        "\n",
        "            images.append(img)\n",
        "            labels.append(class_id)\n",
        "\n",
        "    images = np.array(images)\n",
        "    labels = np.array(labels)\n",
        "    return images, labels\n",
        "\n",
        "train_dir = os.path.join( 'Train')\n",
        "val_dir = os.path.join( 'Val')\n",
        "\n",
        "train_images, train_labels = load_data_with_augmentation(train_dir, augment=True)\n",
        "val_images, val_labels = load_data_with_augmentation(val_dir, augment=False)\n",
        "\n",
        "train_images.shape, val_images.shape\n"
      ],
      "metadata": {
        "colab": {
          "base_uri": "https://localhost:8080/"
        },
        "id": "upqiefGW-VP1",
        "outputId": "2f2045b0-dda8-4608-8258-171ab078acf1"
      },
      "execution_count": 8,
      "outputs": [
        {
          "output_type": "stream",
          "name": "stdout",
          "text": [
            "Warning: Directory not found: Train/Glioma/images\n",
            "Warning: Directory not found: Train/Meningioma/images\n",
            "Warning: Directory not found: Train/No Tumor/images\n",
            "Warning: Directory not found: Train/Pituitary/images\n",
            "Warning: Directory not found: Val/Glioma/images\n",
            "Warning: Directory not found: Val/Meningioma/images\n",
            "Warning: Directory not found: Val/No Tumor/images\n",
            "Warning: Directory not found: Val/Pituitary/images\n"
          ]
        },
        {
          "output_type": "execute_result",
          "data": {
            "text/plain": [
              "((0,), (0,))"
            ]
          },
          "metadata": {},
          "execution_count": 8
        }
      ]
    },
    {
      "cell_type": "code",
      "source": [
        "from google.colab import drive\n",
        "drive.mount('/content/drive')"
      ],
      "metadata": {
        "id": "AHcE_5yhMITL"
      },
      "execution_count": null,
      "outputs": []
    },
    {
      "cell_type": "code",
      "source": [
        "train_datagen = ImageDataGenerator(\n",
        "    rescale=1./255,\n",
        "    rotation_range=30,\n",
        "    width_shift_range=0.3,\n",
        "    height_shift_range=0.3,\n",
        "    shear_range=0.3,\n",
        "    zoom_range=0.3,\n",
        "    horizontal_flip=True,\n",
        "    fill_mode='nearest'\n",
        ")\n",
        "\n",
        "val_datagen = ImageDataGenerator(rescale=1./255)\n",
        "\n",
        "train_generator = train_datagen.flow(train_images, train_labels, batch_size=32)  # Bu üreticiler, modelin eğitim ve doğrulama süreçlerinde kullanılacak veri akışını yönetir.\n",
        "val_generator = val_datagen.flow(val_images, val_labels, batch_size=32)"
      ],
      "metadata": {
        "colab": {
          "base_uri": "https://localhost:8080/"
        },
        "id": "xiMegqcM-0Aw",
        "outputId": "c8ccee5b-580e-4a11-bda6-fd0973047fe7"
      },
      "execution_count": 13,
      "outputs": [
        {
          "output_type": "execute_result",
          "data": {
            "text/plain": [
              "((4737, 224, 224, 3), (509, 224, 224, 3))"
            ]
          },
          "metadata": {},
          "execution_count": 13
        }
      ]
    },
    {
      "cell_type": "code",
      "source": [
        "base_model = ResNet50(weights='imagenet', include_top=False, input_shape=(224, 224, 3))  #Modeli yükleme\n",
        "\n",
        "for layer in base_model.layers:                                                           #Katmanları doldurma\n",
        "    layer.trainable = False\n",
        "\n",
        "x = base_model.output                                                                     #Özelleştirilmiş katmanlar\n",
        "x = GlobalAveragePooling2D()(x)\n",
        "x = Dense(512, activation='relu')(x)\n",
        "x = Dropout(0.5)(x)\n",
        "predictions = Dense(4, activation='softmax')(x)\n",
        "\n",
        "model = Model(inputs=base_model.input, outputs=predictions)                                #Model Tanımlama\n",
        "\n"
      ],
      "metadata": {
        "colab": {
          "base_uri": "https://localhost:8080/",
          "height": 211
        },
        "id": "9KersO8kJlMf",
        "outputId": "4bf8171f-f9f6-4a65-a9e7-95f6e80ec969"
      },
      "execution_count": 1,
      "outputs": [
        {
          "output_type": "error",
          "ename": "NameError",
          "evalue": "name 'ResNet50' is not defined",
          "traceback": [
            "\u001b[0;31m---------------------------------------------------------------------------\u001b[0m",
            "\u001b[0;31mNameError\u001b[0m                                 Traceback (most recent call last)",
            "\u001b[0;32m<ipython-input-1-caaaa8ce18d4>\u001b[0m in \u001b[0;36m<cell line: 1>\u001b[0;34m()\u001b[0m\n\u001b[0;32m----> 1\u001b[0;31m \u001b[0mbase_model\u001b[0m \u001b[0;34m=\u001b[0m \u001b[0mResNet50\u001b[0m\u001b[0;34m(\u001b[0m\u001b[0mweights\u001b[0m\u001b[0;34m=\u001b[0m\u001b[0;34m'imagenet'\u001b[0m\u001b[0;34m,\u001b[0m \u001b[0minclude_top\u001b[0m\u001b[0;34m=\u001b[0m\u001b[0;32mFalse\u001b[0m\u001b[0;34m,\u001b[0m \u001b[0minput_shape\u001b[0m\u001b[0;34m=\u001b[0m\u001b[0;34m(\u001b[0m\u001b[0;36m224\u001b[0m\u001b[0;34m,\u001b[0m \u001b[0;36m224\u001b[0m\u001b[0;34m,\u001b[0m \u001b[0;36m3\u001b[0m\u001b[0;34m)\u001b[0m\u001b[0;34m)\u001b[0m  \u001b[0;31m#Modeli yükleme\u001b[0m\u001b[0;34m\u001b[0m\u001b[0;34m\u001b[0m\u001b[0m\n\u001b[0m\u001b[1;32m      2\u001b[0m \u001b[0;34m\u001b[0m\u001b[0m\n\u001b[1;32m      3\u001b[0m \u001b[0;32mfor\u001b[0m \u001b[0mlayer\u001b[0m \u001b[0;32min\u001b[0m \u001b[0mbase_model\u001b[0m\u001b[0;34m.\u001b[0m\u001b[0mlayers\u001b[0m\u001b[0;34m:\u001b[0m                                                           \u001b[0;31m#Katmanları doldurma\u001b[0m\u001b[0;34m\u001b[0m\u001b[0;34m\u001b[0m\u001b[0m\n\u001b[1;32m      4\u001b[0m     \u001b[0mlayer\u001b[0m\u001b[0;34m.\u001b[0m\u001b[0mtrainable\u001b[0m \u001b[0;34m=\u001b[0m \u001b[0;32mFalse\u001b[0m\u001b[0;34m\u001b[0m\u001b[0;34m\u001b[0m\u001b[0m\n\u001b[1;32m      5\u001b[0m \u001b[0;34m\u001b[0m\u001b[0m\n",
            "\u001b[0;31mNameError\u001b[0m: name 'ResNet50' is not defined"
          ]
        }
      ]
    },
    {
      "cell_type": "code",
      "source": [],
      "metadata": {
        "id": "-TQ4YvECKmxZ"
      },
      "execution_count": null,
      "outputs": []
    }
  ],
  "metadata": {
    "colab": {
      "name": "Colaboratory'ye Hoş Geldiniz",
      "provenance": [],
      "include_colab_link": true
    },
    "kernelspec": {
      "display_name": "Python 3",
      "name": "python3"
    }
  },
  "nbformat": 4,
  "nbformat_minor": 0
}